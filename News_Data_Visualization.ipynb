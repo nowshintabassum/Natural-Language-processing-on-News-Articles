{
  "nbformat": 4,
  "nbformat_minor": 0,
  "metadata": {
    "colab": {
      "name": "News-Data-Visualization.ipynb",
      "provenance": []
    },
    "kernelspec": {
      "name": "python3",
      "display_name": "Python 3"
    },
    "language_info": {
      "name": "python"
    }
  },
  "cells": [
    {
      "cell_type": "code",
      "metadata": {
        "colab": {
          "base_uri": "https://localhost:8080/",
          "height": 195
        },
        "id": "3d7Jq_pWX_ut",
        "outputId": "57d6679f-5920-4b39-d1b8-17e67891851f"
      },
      "source": [
        "import pandas as pd\n",
        "\n",
        "data = pd.read_pickle('/content/sample_data/dtm.pkl')\n",
        "data = data.transpose()\n",
        "data.head()"
      ],
      "execution_count": null,
      "outputs": [
        {
          "output_type": "execute_result",
          "data": {
            "text/html": [
              "<div>\n",
              "<style scoped>\n",
              "    .dataframe tbody tr th:only-of-type {\n",
              "        vertical-align: middle;\n",
              "    }\n",
              "\n",
              "    .dataframe tbody tr th {\n",
              "        vertical-align: top;\n",
              "    }\n",
              "\n",
              "    .dataframe thead th {\n",
              "        text-align: right;\n",
              "    }\n",
              "</style>\n",
              "<table border=\"1\" class=\"dataframe\">\n",
              "  <thead>\n",
              "    <tr style=\"text-align: right;\">\n",
              "      <th></th>\n",
              "      <th>Environment</th>\n",
              "      <th>Science</th>\n",
              "      <th>Business</th>\n",
              "    </tr>\n",
              "  </thead>\n",
              "  <tbody>\n",
              "    <tr>\n",
              "      <th>aa</th>\n",
              "      <td>0</td>\n",
              "      <td>3</td>\n",
              "      <td>0</td>\n",
              "    </tr>\n",
              "    <tr>\n",
              "      <th>ab</th>\n",
              "      <td>1</td>\n",
              "      <td>0</td>\n",
              "      <td>0</td>\n",
              "    </tr>\n",
              "    <tr>\n",
              "      <th>abdul</th>\n",
              "      <td>13</td>\n",
              "      <td>0</td>\n",
              "      <td>0</td>\n",
              "    </tr>\n",
              "    <tr>\n",
              "      <th>abdullah</th>\n",
              "      <td>5</td>\n",
              "      <td>0</td>\n",
              "      <td>0</td>\n",
              "    </tr>\n",
              "    <tr>\n",
              "      <th>abdullahalmahmud</th>\n",
              "      <td>1</td>\n",
              "      <td>0</td>\n",
              "      <td>0</td>\n",
              "    </tr>\n",
              "  </tbody>\n",
              "</table>\n",
              "</div>"
            ],
            "text/plain": [
              "                  Environment  Science  Business\n",
              "aa                          0        3         0\n",
              "ab                          1        0         0\n",
              "abdul                      13        0         0\n",
              "abdullah                    5        0         0\n",
              "abdullahalmahmud            1        0         0"
            ]
          },
          "metadata": {
            "tags": []
          },
          "execution_count": 2
        }
      ]
    },
    {
      "cell_type": "code",
      "metadata": {
        "id": "QHrsZR7Ja_g_"
      },
      "source": [
        "# Find the top 30 words in each news category\n",
        "top_dict = {}\n",
        "for c in data.columns:\n",
        "    top = data[c].sort_values(ascending=False).head(30)\n",
        "    top_dict[c]= list(zip(top.index, top.values))\n",
        "\n",
        "top_dict"
      ],
      "execution_count": null,
      "outputs": []
    },
    {
      "cell_type": "code",
      "metadata": {
        "colab": {
          "base_uri": "https://localhost:8080/"
        },
        "id": "DrGq01WUbE7h",
        "outputId": "becf3f90-8e94-4bec-c619-ae1eed239273"
      },
      "source": [
        "# Print the top 15 words in each news category\n",
        "for cat, top_words in top_dict.items():\n",
        "    print(cat)\n",
        "    print(', '.join([word for word, count in top_words[0:30]]))\n",
        "    print('---')"
      ],
      "execution_count": null,
      "outputs": [
        {
          "output_type": "stream",
          "text": [
            "Environment\n",
            "said, bangladesh, forest, environment, climate, department, sundarbans, doe, water, government, tk, fish, people, river, change, energy, country, pollution, land, today, chattogram, brick, lakh, fined, dhaka, air, power, area, report, kilns\n",
            "---\n",
            "Science\n",
            "bangladesh, research, nuclear, port, mongla, dengue, said, plant, won, award, student, mamun, rooppur, robot, dr, department, university, power, unloading, bronze, physics, steam, reactor, scientists, challenge, generator, mosquitoes, key, scientist, bangladeshi\n",
            "---\n",
            "Business\n",
            "said, cent, tk, bangladesh, bank, countrys, year, new, government, according, mechanisation, workers, country, banks, women, fund, crore, order, factories, litchi, china, climate, varieties, firms, years, central, director, meet, fuel, tax\n",
            "---\n"
          ],
          "name": "stdout"
        }
      ]
    },
    {
      "cell_type": "code",
      "metadata": {
        "id": "Q48rEPvrbY_m"
      },
      "source": [
        "# Look at the most common top words --> add them to the stop word list\n",
        "from collections import Counter\n",
        "\n",
        "# Let's first pull out the top 30 words for each news category\n",
        "words = []\n",
        "for cat in data.columns:\n",
        "    top = [word for (word, count) in top_dict[cat]]\n",
        "    for t in top:\n",
        "        words.append(t)\n",
        "        \n",
        "words"
      ],
      "execution_count": null,
      "outputs": []
    },
    {
      "cell_type": "code",
      "metadata": {
        "id": "lrmyYe7Pbsq8"
      },
      "source": [
        "Counter(words).most_common()"
      ],
      "execution_count": null,
      "outputs": []
    },
    {
      "cell_type": "code",
      "metadata": {
        "colab": {
          "base_uri": "https://localhost:8080/"
        },
        "id": "-4pEc5mYb34u",
        "outputId": "87fb3d2f-3fa8-4ba7-cf4a-a8ab39c32c2d"
      },
      "source": [
        "# If more than half of the news_type have it as a top word, exclude it from the list\n",
        "add_stop_words = [word for word, count in Counter(words).most_common() if count > 1]\n",
        "add_stop_words"
      ],
      "execution_count": null,
      "outputs": [
        {
          "output_type": "execute_result",
          "data": {
            "text/plain": [
              "['said',\n",
              " 'bangladesh',\n",
              " 'climate',\n",
              " 'department',\n",
              " 'government',\n",
              " 'tk',\n",
              " 'country',\n",
              " 'power']"
            ]
          },
          "metadata": {
            "tags": []
          },
          "execution_count": 7
        }
      ]
    },
    {
      "cell_type": "code",
      "metadata": {
        "id": "oLGPxH1FojAO",
        "colab": {
          "base_uri": "https://localhost:8080/",
          "height": 136
        },
        "outputId": "862d96c5-135a-474e-b1c6-1cd4594338c8"
      },
      "source": [
        "from sklearn.feature_extraction import text \n",
        "from sklearn.feature_extraction.text import CountVectorizer\n",
        "\n",
        "# Read in cleaned data\n",
        "data_clean = pd.read_pickle('/content/sample_data/clean_data.pkl')\n",
        "data_clean"
      ],
      "execution_count": null,
      "outputs": [
        {
          "output_type": "execute_result",
          "data": {
            "text/html": [
              "<div>\n",
              "<style scoped>\n",
              "    .dataframe tbody tr th:only-of-type {\n",
              "        vertical-align: middle;\n",
              "    }\n",
              "\n",
              "    .dataframe tbody tr th {\n",
              "        vertical-align: top;\n",
              "    }\n",
              "\n",
              "    .dataframe thead th {\n",
              "        text-align: right;\n",
              "    }\n",
              "</style>\n",
              "<table border=\"1\" class=\"dataframe\">\n",
              "  <thead>\n",
              "    <tr style=\"text-align: right;\">\n",
              "      <th></th>\n",
              "      <th>Headlines</th>\n",
              "    </tr>\n",
              "  </thead>\n",
              "  <tbody>\n",
              "    <tr>\n",
              "      <th>Environment</th>\n",
              "      <td>govt bans fishing in the bay of bengal for  da...</td>\n",
              "    </tr>\n",
              "    <tr>\n",
              "      <th>Science</th>\n",
              "      <td>rooppur power plant unloading of key machines ...</td>\n",
              "    </tr>\n",
              "    <tr>\n",
              "      <th>Business</th>\n",
              "      <td>bondhu chula for healthy living bangladesh bon...</td>\n",
              "    </tr>\n",
              "  </tbody>\n",
              "</table>\n",
              "</div>"
            ],
            "text/plain": [
              "                                                     Headlines\n",
              "Environment  govt bans fishing in the bay of bengal for  da...\n",
              "Science      rooppur power plant unloading of key machines ...\n",
              "Business     bondhu chula for healthy living bangladesh bon..."
            ]
          },
          "metadata": {
            "tags": []
          },
          "execution_count": 10
        }
      ]
    },
    {
      "cell_type": "code",
      "metadata": {
        "id": "4d6HeaaRb_Bg"
      },
      "source": [
        "\n",
        "\n",
        "# Add new stop words\n",
        "stop_words = text.ENGLISH_STOP_WORDS.union(add_stop_words)\n",
        "\n",
        "# Recreate document-term matrix\n",
        "cv = CountVectorizer(stop_words=stop_words)\n",
        "data_cv = cv.fit_transform(data_clean.Headlines)\n",
        "data_stop = pd.DataFrame(data_cv.toarray(), columns=cv.get_feature_names())\n",
        "data_stop.index = data_clean.index\n",
        "\n",
        "# Pickle it for later use\n",
        "import pickle\n",
        "pickle.dump(cv, open(\"cv_stop.pkl\", \"wb\"))\n",
        "data_stop.to_pickle(\"dtm_stop.pkl\")"
      ],
      "execution_count": null,
      "outputs": []
    },
    {
      "cell_type": "code",
      "metadata": {
        "colab": {
          "base_uri": "https://localhost:8080/",
          "height": 402
        },
        "id": "BFKrhEgMcREX",
        "outputId": "8c720a9b-6d3d-4a00-d6e1-fe9a5780aa32"
      },
      "source": [
        "d_s = data_stop.transpose()\n",
        "d_s\n"
      ],
      "execution_count": null,
      "outputs": [
        {
          "output_type": "execute_result",
          "data": {
            "text/html": [
              "<div>\n",
              "<style scoped>\n",
              "    .dataframe tbody tr th:only-of-type {\n",
              "        vertical-align: middle;\n",
              "    }\n",
              "\n",
              "    .dataframe tbody tr th {\n",
              "        vertical-align: top;\n",
              "    }\n",
              "\n",
              "    .dataframe thead th {\n",
              "        text-align: right;\n",
              "    }\n",
              "</style>\n",
              "<table border=\"1\" class=\"dataframe\">\n",
              "  <thead>\n",
              "    <tr style=\"text-align: right;\">\n",
              "      <th></th>\n",
              "      <th>Environment</th>\n",
              "      <th>Science</th>\n",
              "      <th>Business</th>\n",
              "    </tr>\n",
              "  </thead>\n",
              "  <tbody>\n",
              "    <tr>\n",
              "      <th>aa</th>\n",
              "      <td>0</td>\n",
              "      <td>3</td>\n",
              "      <td>0</td>\n",
              "    </tr>\n",
              "    <tr>\n",
              "      <th>ab</th>\n",
              "      <td>1</td>\n",
              "      <td>0</td>\n",
              "      <td>0</td>\n",
              "    </tr>\n",
              "    <tr>\n",
              "      <th>abdul</th>\n",
              "      <td>13</td>\n",
              "      <td>0</td>\n",
              "      <td>0</td>\n",
              "    </tr>\n",
              "    <tr>\n",
              "      <th>abdullah</th>\n",
              "      <td>5</td>\n",
              "      <td>0</td>\n",
              "      <td>0</td>\n",
              "    </tr>\n",
              "    <tr>\n",
              "      <th>abdullahalmahmud</th>\n",
              "      <td>1</td>\n",
              "      <td>0</td>\n",
              "      <td>0</td>\n",
              "    </tr>\n",
              "    <tr>\n",
              "      <th>...</th>\n",
              "      <td>...</td>\n",
              "      <td>...</td>\n",
              "      <td>...</td>\n",
              "    </tr>\n",
              "    <tr>\n",
              "      <th>zoology</th>\n",
              "      <td>5</td>\n",
              "      <td>0</td>\n",
              "      <td>0</td>\n",
              "    </tr>\n",
              "    <tr>\n",
              "      <th>zoom</th>\n",
              "      <td>0</td>\n",
              "      <td>0</td>\n",
              "      <td>1</td>\n",
              "    </tr>\n",
              "    <tr>\n",
              "      <th>zoos</th>\n",
              "      <td>3</td>\n",
              "      <td>0</td>\n",
              "      <td>0</td>\n",
              "    </tr>\n",
              "    <tr>\n",
              "      <th>zootaxaaccording</th>\n",
              "      <td>1</td>\n",
              "      <td>0</td>\n",
              "      <td>0</td>\n",
              "    </tr>\n",
              "    <tr>\n",
              "      <th>zusammenarbeit</th>\n",
              "      <td>0</td>\n",
              "      <td>0</td>\n",
              "      <td>1</td>\n",
              "    </tr>\n",
              "  </tbody>\n",
              "</table>\n",
              "<p>9446 rows × 3 columns</p>\n",
              "</div>"
            ],
            "text/plain": [
              "                  Environment  Science  Business\n",
              "aa                          0        3         0\n",
              "ab                          1        0         0\n",
              "abdul                      13        0         0\n",
              "abdullah                    5        0         0\n",
              "abdullahalmahmud            1        0         0\n",
              "...                       ...      ...       ...\n",
              "zoology                     5        0         0\n",
              "zoom                        0        0         1\n",
              "zoos                        3        0         0\n",
              "zootaxaaccording            1        0         0\n",
              "zusammenarbeit              0        0         1\n",
              "\n",
              "[9446 rows x 3 columns]"
            ]
          },
          "metadata": {
            "tags": []
          },
          "execution_count": 22
        }
      ]
    },
    {
      "cell_type": "code",
      "metadata": {
        "colab": {
          "base_uri": "https://localhost:8080/"
        },
        "id": "B_cvgzOhdPjm",
        "outputId": "a9b4a344-84de-46ab-eac7-419b525aa315"
      },
      "source": [
        "# Find the top 30 words in each news category\n",
        "top_dict = {}\n",
        "for c in d_s.columns:\n",
        "    top = d_s[c].sort_values(ascending=False).head(30)\n",
        "    top_dict[c]= list(zip(top.index, top.values))\n",
        "\n",
        "top_dict"
      ],
      "execution_count": null,
      "outputs": [
        {
          "output_type": "execute_result",
          "data": {
            "text/plain": [
              "{'Business': [('cent', 63),\n",
              "  ('bank', 33),\n",
              "  ('countrys', 31),\n",
              "  ('new', 30),\n",
              "  ('year', 30),\n",
              "  ('according', 29),\n",
              "  ('mechanisation', 27),\n",
              "  ('workers', 25),\n",
              "  ('banks', 24),\n",
              "  ('women', 22),\n",
              "  ('fund', 21),\n",
              "  ('crore', 20),\n",
              "  ('order', 19),\n",
              "  ('litchi', 19),\n",
              "  ('factories', 19),\n",
              "  ('china', 19),\n",
              "  ('varieties', 18),\n",
              "  ('firms', 17),\n",
              "  ('central', 17),\n",
              "  ('years', 17),\n",
              "  ('director', 16),\n",
              "  ('meet', 16),\n",
              "  ('tax', 16),\n",
              "  ('fuel', 16),\n",
              "  ('clients', 15),\n",
              "  ('sources', 15),\n",
              "  ('lakh', 15),\n",
              "  ('insurance', 15),\n",
              "  ('farm', 15),\n",
              "  ('loans', 15)],\n",
              " 'Environment': [('forest', 287),\n",
              "  ('environment', 222),\n",
              "  ('sundarbans', 180),\n",
              "  ('doe', 165),\n",
              "  ('water', 154),\n",
              "  ('people', 132),\n",
              "  ('fish', 132),\n",
              "  ('river', 131),\n",
              "  ('change', 125),\n",
              "  ('energy', 122),\n",
              "  ('pollution', 121),\n",
              "  ('land', 118),\n",
              "  ('today', 115),\n",
              "  ('chattogram', 112),\n",
              "  ('brick', 111),\n",
              "  ('lakh', 109),\n",
              "  ('fined', 107),\n",
              "  ('dhaka', 103),\n",
              "  ('air', 101),\n",
              "  ('area', 99),\n",
              "  ('report', 98),\n",
              "  ('kilns', 98),\n",
              "  ('court', 97),\n",
              "  ('world', 97),\n",
              "  ('daily', 91),\n",
              "  ('upazila', 91),\n",
              "  ('year', 86),\n",
              "  ('hc', 84),\n",
              "  ('countries', 80),\n",
              "  ('years', 80)],\n",
              " 'Science': [('nuclear', 11),\n",
              "  ('research', 11),\n",
              "  ('port', 9),\n",
              "  ('mongla', 9),\n",
              "  ('plant', 9),\n",
              "  ('dengue', 9),\n",
              "  ('award', 8),\n",
              "  ('won', 8),\n",
              "  ('student', 8),\n",
              "  ('rooppur', 7),\n",
              "  ('university', 7),\n",
              "  ('robot', 7),\n",
              "  ('mamun', 7),\n",
              "  ('dr', 7),\n",
              "  ('unloading', 6),\n",
              "  ('scientists', 6),\n",
              "  ('challenge', 6),\n",
              "  ('steam', 6),\n",
              "  ('physics', 6),\n",
              "  ('reactor', 6),\n",
              "  ('bronze', 6),\n",
              "  ('according', 5),\n",
              "  ('professor', 5),\n",
              "  ('scientist', 5),\n",
              "  ('mosquitoes', 5),\n",
              "  ('bangladeshi', 5),\n",
              "  ('key', 5),\n",
              "  ('eclipse', 5),\n",
              "  ('national', 5),\n",
              "  ('components', 5)]}"
            ]
          },
          "metadata": {
            "tags": []
          },
          "execution_count": 128
        }
      ]
    },
    {
      "cell_type": "code",
      "metadata": {
        "id": "tPqGsSkOkAYv"
      },
      "source": [
        "def word_counts(cat):\n",
        "  h=[]\n",
        "  words=[]\n",
        "  for l, n in (top_dict[cat]):\n",
        "    h.append(n)\n",
        "    words.append(l)\n",
        "  return h,words\n",
        "  "
      ],
      "execution_count": null,
      "outputs": []
    },
    {
      "cell_type": "code",
      "metadata": {
        "id": "jRCdtBdKorlW"
      },
      "source": [
        "h_env,words_env = word_counts(\"Environment\")\n",
        "h_sci,words_sci = word_counts(\"Science\")\n",
        "h_bus,words_bus = word_counts(\"Business\")"
      ],
      "execution_count": null,
      "outputs": []
    },
    {
      "cell_type": "markdown",
      "metadata": {
        "id": "-YFrku4CRBnu"
      },
      "source": [
        "#Top Words in Each Category of News"
      ]
    },
    {
      "cell_type": "code",
      "metadata": {
        "colab": {
          "base_uri": "https://localhost:8080/",
          "height": 1000
        },
        "id": "ocrKWL_Um-aK",
        "outputId": "c311a183-9a9a-4981-f088-499c38ad47c7"
      },
      "source": [
        "\n",
        "plt.figure(figsize=(5, 8))\n",
        "plt.title('Environment')\n",
        "plt.barh(words_env,h_env)\n",
        "plt.show()\n",
        "plt.figure(figsize=(5, 8))\n",
        "plt.title('Science')\n",
        "plt.barh(words_sci,h_sci)\n",
        "plt.show()\n",
        "plt.figure(figsize=(5, 8))\n",
        "plt.title('Business')\n",
        "plt.barh(words_bus,h_bus)\n",
        "plt.show()"
      ],
      "execution_count": null,
      "outputs": [
        {
          "output_type": "display_data",
          "data": {
            "image/png": "[encoded data removed]",
            "text/plain": [
              "<Figure size 360x576 with 1 Axes>"
            ]
          },
          "metadata": {
            "tags": [],
            "needs_background": "light"
          }
        },
        {
          "output_type": "display_data",
          "data": {
            "image/png": "[encoded data removed]",
            "text/plain": [
              "<Figure size 360x576 with 1 Axes>"
            ]
          },
          "metadata": {
            "tags": [],
            "needs_background": "light"
          }
        },
        {
          "output_type": "display_data",
          "data": {
            "image/png": "[encoded data removed]",
            "text/plain": [
              "<Figure size 360x576 with 1 Axes>"
            ]
          },
          "metadata": {
            "tags": [],
            "needs_background": "light"
          }
        }
      ]
    },
    {
      "cell_type": "code",
      "metadata": {
        "id": "_B_L4XK0c69p"
      },
      "source": [],
      "execution_count": null,
      "outputs": []
    }
  ]
}