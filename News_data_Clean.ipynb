{
  "nbformat": 4,
  "nbformat_minor": 0,
  "metadata": {
    "colab": {
      "name": "News-data-Clean.ipynb",
      "provenance": [],
      "collapsed_sections": []
    },
    "kernelspec": {
      "name": "python3",
      "display_name": "Python 3"
    },
    "language_info": {
      "name": "python"
    }
  },
  "cells": [
    {
      "cell_type": "code",
      "metadata": {
        "id": "Hd3Q9-qb8QLL"
      },
      "source": [
        "import pickle"
      ],
      "execution_count": null,
      "outputs": []
    },
    {
      "cell_type": "code",
      "metadata": {
        "id": "7fEizTmn8ZPk"
      },
      "source": [
        "import json\n",
        "data = {}\n",
        "with open(\"/content/sample_data/19-04-2021-12-16-Env-Science-Business.json\", \"rb\") as file:\n",
        "      data = json.load(file)"
      ],
      "execution_count": null,
      "outputs": []
    },
    {
      "cell_type": "code",
      "metadata": {
        "id": "naSNxD__R9E7"
      },
      "source": [
        "#Combining news from each category\n",
        "def form(cat):\n",
        "  combined_text=''\n",
        "  for i in range(len(data)):\n",
        "    if data[i].get('Category')==cat:\n",
        "      combined_text = combined_text + data[i].get('Headline') + ' ' + data[i].get('Content') + ' ' + data[i].get('Description') + ' '\n",
        "  return combined_text"
      ],
      "execution_count": null,
      "outputs": []
    },
    {
      "cell_type": "code",
      "metadata": {
        "id": "T6aGf2-yRRlI"
      },
      "source": [
        "for i in range(len(data)):\n",
        "  print(data[i].get('Headline'))"
      ],
      "execution_count": null,
      "outputs": []
    },
    {
      "cell_type": "code",
      "metadata": {
        "id": "M_r0HHQVERFl"
      },
      "source": [
        "cat1= \"Environment\"\n",
        "words1 =form(cat1)\n",
        "cat2= \"Science\"\n",
        "words2 =form(cat2)\n",
        "cat3= \"Business\"\n",
        "words3 =form(cat3)"
      ],
      "execution_count": null,
      "outputs": []
    },
    {
      "cell_type": "code",
      "metadata": {
        "id": "DZ3SX4jPGgro"
      },
      "source": [
        "dict = [{'Environment':words1, 'Science':words2, 'Business':words3}]"
      ],
      "execution_count": null,
      "outputs": []
    },
    {
      "cell_type": "code",
      "metadata": {
        "colab": {
          "base_uri": "https://localhost:8080/",
          "height": 137
        },
        "id": "FAtEPcgVEl7G",
        "outputId": "8ffad352-eacd-4714-88b4-b0b8ed45cc76"
      },
      "source": [
        "words3"
      ],
      "execution_count": null,
      "outputs": [
        {
          "output_type": "execute_result",
          "data": {
            "application/vnd.google.colaboratory.intrinsic+json": {
              "type": "string"
            },
            "text/plain": [
              "'\\'Bondhu Chula\\' for healthy living Bangladesh Council of Scientific and Industrial Research (BCSIR) has innovated an environmentally friendly stove, Bondhu Chula (Friend Stove), that releases no smoke in and out of the kitchen.Bangladesh Bondhu Foundation (BBF), a Bangladeshi organisation, is delivering the stove from door to door with the help of the German Federal Enterprise for International Cooperation (GIZ- Deutsche Gesellschaft für Internationale Zusammenarbeit), according to a release.The stove is connected to a long pipe for the smoke produced to be passed in the air outside in such a way that anyone in or outside the kitchen would not be affected by the smoke. In the rural areas where women often have their children with them when they are cooking, so the smoke coming from common earthen stoves cause problem for both the mothers and the children. This could be avoided by using \\'Bondhu Chula\\', the release read.Moreover, no heat would be felt in the kitchen by using this new stove. Also, the stove is fuel efficient and would require 40 percent less firewood for cooking, according to the release.According to a fact sheet published by the World Health Organisation (WHO) in February 2016, indoor air pollution is one of the main causes of pneumonia among children. Besides, 34 percent of strokes, 26 percent of heart diseases, 22 percent of asthma, and 6 percent lung disease are also suspected to be caused by indoor air pollution, which is mainly due to the use of ordinary stoves which produce much smoke.Around 90 percent families in Bangladesh are using ordinary stoves for cooking, knows from GIZ and BBF sources. The smoke produced from such large number of common stoves lead to 50 thousand premature deaths every year and 2.5 million cases of people suffering from asthma. Also around 60 million tons of firewood is used as fuel in these common stoves every year, leading to extensive forest logging.\\'Bondhu Chula\\' will help the people to come out of this scenario and lead a better and healthy living. Besides, since this stove would not cause any smoke inside the kitchen, there would not be any stains from the smoke on the kitchen walls, doors and windows.Many countries besides Bangladesh, such as Peru, Uganda, Tanzania and Kenya are promoting use of environmentally friendly stoves of similar kind. Even neighbouring countries -- India and China -- are using these stoves. The stoves are applicable for use in households, large restaurants, community centres, and small factories. Currently, more than 5,000 entrepreneurs are involved in the Bondhu Chula Programme, who are setting up this enviornmentally friendly stove at a cost of Tk 1,200 across the country. Nearly two million stoves have been sold in the country so far.The BBF has set the goal of reaching this environmentally friendly stove to 30 million families in the country by the 50-year anniversary of the country\\'s independence in 2021.   Anyone interested in using \\'Bondhu Chula\\' is requested to contact this number- 01833104100. Bangladesh Bondhu Foundation (BBF), a Bangladeshi organisation, delivers an environmentally friendly stove, \\'Bondhu Chula\\', innovated by Bangladesh Council of Scientific and Industrial Research (BCSIR), from door to door with the help of the German Federal Enterprise for International Cooperation (GIZ). PM opens TV channels\\' broadcast using Bangabandhu-1 satellite Prime Minister Sheikh Hasina today inaugurated the commercial transmission of all local private television channels using the feed of country\\'s first communication satellite Bangabandhu-I (BS-I) as she addressed a function on the occasion at a city hotel.With its inauguration, the country\\'s broadcast industry is going to enter a new era as the BS-I will save a huge amount of foreign currency to be paid by local TVs as rent.Information Minister Dr Hasan Mahmud spoke on the occasion as the special guest with Posts and Telecommunications Minister Mustafa Jabbar in chair.Secretary of Posts and Telecommunications Division Ashoke Kumar Biswas and Chairman of the Association of Television Channel Owners (ATCO), a platform of private television channel owners, Anjan Chowdhury also spoke on the occasion.An audio-video presentation on the multifaceted use of the Bangabandhu Sattelite-1 in various sectors for the country\\'s overall development was made.Officials concerned said local TV channels have been receiving feed from Apstar 7 and AsiaSat satellites in exchange of US$ 4,000 per Mega Hartz frequency each month on an average.Earlier on May 19, Bangladesh Communication Satellite Company Limited (BCSCL) signed formal agreements with six local TV channels — Somoy TV, Jamuna TV, Deepto TV, Bijoy TV, Bangla TV and MY TV — for the use of BS-I.In addition, four channels of the state-owned BTV has been running operation through the feed of BS-I.All the TVs for their transmission would require the capacities of five transponders of the BS-I.Besides, the local D2H Akash of BEXIMCO has rented six transponders.The BCSCL has also connected all TV channels through fiber optic cable with its ground station instead of installing earth station to minimize the cost of TV channel owners.French manufacturer Thales Alenia Space in November last year handed over the controlling authority of BS-I to BCSCL, which was launched by the SpaceX on May 12, 2018 from Florida to the orbit.The first trial broadcast of BS-I was successfully done through airing the South Asian Football Federation (SAFF) Championship 2018.In addition, BCSCL has hired international consultancy firm Thaicom for two years to run marketing and sale of the connectivity of BS-I in six countries, including four neighbours. The Thai firm is currently active in around 20 countries.Thales launched the BS-I at a cost of Taka 2,765 crore and according to the plan, it will reach the break-even point within seven years of starting its commercial service.Located at the 119.1 east geostationary slot, BS-I would cover the SAARC countries and Indonesia, the Philippines, Myanmar, Tajikistan, Kyrgyzstan, Uzbekistan, Turkestan and a part of Kazakhstan.The coverage is the strongest in Indonesia, the Philippines, India, Sri Lanka, Nepal and Bhutan, for which these six countries have initially been chosen for business.The satellite\\'s operations include “direct-to-home” service for TV channels, VSAT (very small aperture terminal), backhaul and network restoration, disaster preparedness and relief and many others. Prime Minister Sheikh Hasina inaugurates the commercial transmission of all local private television channels using the feed of country\\'s first communication satellite Bangabandhu-I (BS-I) as she addresses a function on the occasion at a city hotel. Lack of access to finance big barrier to farm mechanisation Access to finance is a big challenge for farm mechanisation in Bangladesh and so the country\\'s lenders should do more for the agriculture sector, according to Subrata Ranjan Das, executive director of ACI Motors.ACI Motors began its journey in 2007 with a tractor business but has since included 15 more products to its portfolio, most of which deals with farm mechanisation.The government provides farmers subsidies of up to 40-50 per cent on the price of a machine while the rest needs to be paid by the buyer.But since agro-machinery is quite expensive, it is tough for them to arrange the fund, Das said in an interview with The Daily Star last week.And since not all farmers can avail the government subsidy, banks could help expedite farm mechanisation by providing loans.Some agro-machinery producers supply their products on credit. However, they cannot meet the needs of every single farm.ACI Motors\\' revolving loan portfolio currently stands at about Tk 500 crore, shows the company data.\"We are satisfied with our loan repayment but it is tough to give much more as a mechanisation company. Banks could do that though,\" Das said.\"If the government makes mechanisation loan a top priority agricultural loan, then banks will be prompt to provide the funds and mechanisation would be faster,\" he added.Farm mechanisation is a national service as farmers do not work to feed only themselves but the entire nation.\"But still, no banks is giving loans for farm mechanisation,\" Das said.Regarding the advantages of mechanisation, the executive director said if a farmer uses a harvester, crop wastage goes down to less than one per cent while it was around 12 per cent in the manual harvesting system.If farmers use transplanters, yields increase by 20 per cent to 30 per cent as it increases efficiency, allowing the delicate process to be carried out at least 15 day earlier than it would have been done by hand.So, mechanisation in harvesting and transplanting could give the same output of current times albeit using at least 20 per cent less land.This helps save water, fertiliser, and pesticides, he said, adding that the best benefit was that the land unused can be repurposedfor other crops.However, the country was lagging behind in farm mechanisation due to a lack of affordable solutions.A previous common belief was that a country like Bangladesh was unlikely to face a labour crisis.\"However, farming is a very tough job so people don\\'t enter the industry if they find employment elsewhere,\" Das said.As a producer of agro-machinery, ACI Motors learned early on the importance of farm mechanisation.\"We realised in 2007 that mechanisation would be a crying need for the sector due to a labour shortage that many people didn\\'t even consider,\" he added.With this backdrop, the government initiated a project for farm mechanisation worth Tk 3,020 crore last year.Of the amount, around Tk 2,200 crore was allotted as subsidy for agro-machinery purchases.\"But I recommend launching a financing project so that farmers can afford their share of the machine\\'s cost,\" Das said.\"I think if the farm mechanisation project is implemented properly, then our harvesting mechanisation would be fully covered,\" he added.Responding to a question regarding the current standard of agro-machinery available in the country, he said that ACI maintains global standards.\"If you want to mechanise farming, you have to choose high-standard machinery and so we brought the top Japanese brand, Yanmar, to Bangladesh,\" he said.When Yanmar was first made available in the country, its competitors also rushed in.\"So, ACI is playing a big role in the country\\'s farm mechanisation,\" he said.Around one-third of Bangladesh\\'s farmland is being cultivated with the ACI\\'s machines.\"We have the biggest after-sales service in the country. We also monitor customer feedback in order to help ensure high yields for farmers,\" Das said.The ACI ensures delivery of quality products, which helps buyers secure bank loans when making a purchase.The company has a clear vision to help the country on its farm mechanisation journey, so it focuses on maintaining standards while also making the machines affordable.\"Our teamwork and good marketing effort gives confidence to farmers. When you have some happy customers, they contribute towards marketing,\" he said.This is because when a newcomer intends to buy a machine, he will ask other people in the trade about brands which give a better performance.\"It is then that our users give the best feedback, which is the best marketing policy,\" he added.Responding to a question about a new product, the executive director said the ACI has already brought in maize harvesting machines, which were now under trial.\"Apart from this, we are launching potato harvesters, drier and vegetable mechanisation,\" he said.In the agricultural mechanisation segment, the ACI is the market leader in tractor sales.\"We sell around 3,500 tractors every year while total sales in the country are about 4,500,\" he said.The government is subsidising harvester purchases so its use has risen. However, mechanisation in some other aspects of cultivation is yet to begin.\"We need to start mechanisation in transplanting, rice drying, and vegetable growing,\" he said.Once upon a time, people dried paddy in their homes but now due to a scarcity of space, rice driers have become an upcoming need in Bangladesh.Similarly, potato has become a major crop and so the planting and plucking now needs to be mechanised in order to reduce farming costs.\"We should not wait till mechanisation in rice farming is complete as mechanisation in potato farming also needs to start simultaneously,\" Das said.Vegetables such as onion also need mechanisation in cultivation and harvesting. Onion transplanting and plucking machines are available but farmers are still dependent on manual labour.The ACI brings a new dimension to farm mechanisation because people did not know about other similar companies.\"But our company has goodwill in the market,\" he added.In 2021, ACI Motors became the country\\'s highest taxpayer in the engineering sector among 55 companies.ACI Motors has a dedicated app where they deliver agro-machinery services within six hours through its 400 field employees.\"We are monitoring it continuously,\" Das said, adding that they have a call centre for customer grievances.The company\\'s new smart Yanmar harvester can be monitored by a smartphone. The owner can monitor where the harvester is and how much it harvested, how many times it was on the road and how many times it was on the field.\"This is the latest version of digital agriculture in developed countries.\"Das thanked the government for providing incentives on big harvesters from last year as it helped farm mechanisation in the country gain pace.Big harvesters are necessary in the country because smaller ones cannot properly operate on the muddy fields prevalent in Bangladesh.\"We have already established a factory at Manikganj where some varieties of power tillers and dairy production mechanisms are being produced,\" he said.\"Our main problem of producing machines here is the market size. The local market size is so small that production is not profitable,\" he added.Still though, ACI Motors, which also retails Yamaha motorcycles, is trying to produce agro-machinery here.\"Our banks are not giving loans for buying motorcycles even though two-wheelers have become a need for urban people, so they should lend here too,\" Das said. Access to finance is a big challenge for farm mechanisation in Bangladesh and so the country\\'s lenders should do more for the agriculture sector, according to Subrata Ranjan Das, executive director of ACI Motors. Litchi growers fear record low yield this year Litchi growers in Dinajpur fear a record low production this year because of unfavourable climate, absence of bees and high temperature during the last winter season.Horticulture experts in the district said the consumers will have to spend high to taste the mouth-watering fruit this year.Many varieties of litchis are produced in Dinajpur. Among them, Madrazi, Bombai, China-1, 2 and 3, and Bedana are the most popular ones, which are grown in Mashimpur, Madhabbati, Moheshpur, Korola, Robipur, Birganj, Chirirbandar and Khansama villages.Litchi was cultivated on 5,390 hectares this year, slightly higher than last year\\'s 5,293 hectares.But the growers have set a much lower production target of 45,000 tonnes, down from 54,164 tonnes last year.There are around 4,000 commercial orchards in 13 upazilas inside the district.Around 20,000 litchi trees died for excessive rainfall last year, according to farmers in the district.Only 70 per cent of the litchi trees of the existing 4,000 orchards flowered in the last flowering season, which is quite unexpected and frustrating, said Rafiqul Islam, a litchi farmer of Madhabbati.\"Of the 70 per cent, 40 per cent of the flowers died due to bad climate. The growers are now pinning their hopes on the rest 30 per cent and fearing to count heavy losses.\"Litchi production will hit a record low this year, Rafiqul, who has 30 years of experience, told The Daily Star.\"I have 400 litchi trees on my 4.5-acre land in Madhabbati. Among them, only 20 trees budded. It is quite frustrating,\" he added.Rafiqul said he suffered massive losses last year when the government imposed a countrywide lockdown to curb the spread of coronavirus.\"Litchi production will see a 75 per cent year-on-year fall this year,\" said Anwarul Islam, a litchi businessman of Madhabbati who purchased five large litchi orchards from the growers on contract this year.Bombai, China, Bedana and Madrazi varieties of litchis are grown widely in Biral upazila, he said.There will be a massive shortfall of Bombai and Bedana litchis, but production of other varieties like China 1, 2 and 3, and Madrazi will be moderately well, Anwarul said.\"I incurred huge losses last year for the Covid-19 outbreak and would incur massive losses this year also.\"The grower said he sold litchis worth Tk 30 lakh from five orchards in 2019. But this year he does not think it would be possible to sell litchis worth even Tk 5 lakh from the same orchards.Investors will lose their capital if the situation remains the same for the whole year, he said.In attempts to raise litchi production and recover losses, the growers are now deploying additional labour to nurture the existing trees.In Dinajpur, Mashimpur has done better than other villages. Most of the litchi trees were found filled with buds there.However, growers think the buds may fall from the trees if there is no rain in the days to come.Azizar Rahman, another grower of the village, said litchi production will be 50 per cent lower than last year because of the bad climate.The spiralling cost of inputs is also a reason for the losses, he said.\"I was hoping to recover the lockdown losses of 2020, but low production has made it impossible this year.\"Only 10 per cent of the flowers of Bombai litchi trees turned into buds in the area. The rate increased to 50 per cent in case of Madrazi, China and Bedana varieties.Every year, flowering of the litchi trees begins in mid-February and the fruit hits the market at the end of May or early June.Last year, 221,830 tonnes of litchis were grown in 31,690 hectares of land in the country, according to data of the Department of Agricultural Extension (DAE).Touhidul Iqbal, deputy director of the DAE office in Dinajpur, also blamed the adverse weather conditions and excessive rainfall for the fall in litchi production.But he was confident that growers will get a better price, which may help them recover some losses.This seasonal litchi production creates enormous job opportunities in the district every year and the whole district becomes vibrant during the time.Litchi is produced commercially in 26 districts of the country, including Thakurgaon, Panchagarh, Rajshahi, Panba, Natore and a few hilly districts.In 2018-19, around 2.30 lakh tonnes of litchi was produced in the country and a lion\\'s share of that came from Dinajpur and Pabna districts.Litchi growers of other districts also fear to see a drastic fall in production.\"Only 30 per cent of my 800 litchi trees flowered this season,\" said Md Shajahan Ali, a litchi grower at Kadimpara village under Ishwardi upazila in Pabna.The rate of transformation of the flowers to bud was also bad and most of the buds dropped few days after their transformation, he said.Ali earned Tk 8 lakh in 2019, the earnings were poor in 2020 due to the pandemic and he can hardly think of earning even Tk 1 lakh this year. Litchi growers in Dinajpur fear a record low production this year because of unfavourable climate, absence of bees and high temperature during the last winter season. BB sets rules for banks to disburse Tk 500cr fund for start-ups Bangladesh Bank yesterday set eligibility requirements for banks to disburse loans from the Tk 500 crore fund aimed at helping start-ups expand and flourish, according to a central bank circular.As per the prerequisites, all state-owned and private commercial banks or specialised banks can avail the refinancing facility.However, their classified loans cannot be more than 10 per cent.The lenders will also have to maintain regulatory requirements in the form of their cash reserve rate (CRR) and statutory liquidity ratio (SLR) with Bangladesh Bank.Besides, they must have a minimum one-year of banking experience to manage the funds, the central bank said.On March 12, Bangladesh Bank decided to form a Tk 500 crore fund to help start-ups smoothly secure financing.As per the draft guideline, it would be disbursed through a refinance scheme, meaning that banks would first disburse loans among clients and the central bank would later reimburse the fund to banks.Entrepreneurs aged 21 years and older will be eligible to avail a maximum of Tk one crore from the fund with the highest interest rate set at four per cent while banks will get it from the central bank at 0.50 per cent interest.The repayment tenure will be a maximum of five years.Entrepreneurs with innovative ideas will get top priority while their educational qualification, technical expertise, experience and social acceptance will be considered the same way as collateral would.Banks will be allowed to keep lower provisioning against the loans compared to that required for regular loans.Currently, 20 per cent of a classified loan of sub-standard category has to be kept as provisioning.But lenders will be allowed to keep 5 per cent in provisioning against the start-up loans.Banks will have to keep 30 per cent provision for doubtful loans and 50 per cent for bad loans under the start-up fund whereas it is 50 per cent and 100 per cent respectively for the two types of general loans.Keeping lower provisions against the start-up fund will encourage banks to disburse loans to new entrepreneurs, the central bank said. China will force regional grid firms to buy at least 40 per cent of power from non-fossil fuel sources by 2030 in order to meet the country\\'s climate targets, according to a new governmentdocument seen by Reuters. Banks asked to provide compensation for families of employees who died of Covid-19 The central bank today asked banks to pay cash compensation to families of their employees who have died of coronavirus infections while on duty.The special compensation will range from a minimum of Tk 25 lakh to a maximum of Tk 50 lakh.The families of the expired bankers, whose positions are senior officials and above, will be eligible to get a maximum of Tk 50 lakh each, according to notice issued by Bangladesh Bank.Some Tk 37.50 lakh will have to be given to the families of the officials, whose rank are between trainee assistant officials and below the post of senior officials.Staff and sub-staff, who have been appointed to help bankers in doing banking activities smoothly, have also been brought under the compensation scheme.Each of their families will have to be given Tk 25 lakh if they pass away on account of the Covid-19 infection.The compensation scheme will be applicable for the bank employees, who have been expired since March 29 last year.The instruction will stay effective until the banking watchdog issues further notice.The cash compensation will have to be given to the spouse and son or daughter of the expired employees.If the expired employees are not married, the fund will have to be handed over to their parents.Banks will not be allowed to adjust the payout with previous liabilities of the employees, said the BB notice.In April last year, the central bank had declared health insurance coverage for both the employees infected and expired due to the coronavirus infection.The Bangladesh Bank yesterday discarded the instruction, replacing the new policy.The latest instruction, however, will not allow the infected employees to get any compensation from their respective banks, although the last year\\'s notice had been brought under the employees to get financial support in order to accomplish their medical treatment. China will force regional grid firms to buy at least 40 per cent of power from non-fossil fuel sources by 2030 in order to meet the country\\'s climate targets, according to a new governmentdocument seen by Reuters. NBR removes advance tax on refined palm oil The National Board of Revenue (NBR) has removed 4 per cent advance tax on import of refined palm oil in order to cut working capital pressure on processors and contain prices of the essential cooking ingredient during Ramadan.The NBR took the decision today a week after the revenue authority exempted the advance tax (AT) on crude soybean and palm oil.The decision of the withdrawal comes when prices of edible registered fresh spikes in the domestic market because of rising international prices, supply rationing by processors and wholesalers.The price of loose super palm oil rose 4 per cent to Tk 110-Tk 115 per litre yesterday from Tk 107-Tk 110, according to the Trading Corporation of Bangladesh. Prices of soybean oil also rose.Processors earlier said the removal of AT will alleviate the need for working capital and interest rate burden for refiners.The revenue authority introduced the AT on imports from fiscal 2019-20 aiming to ensure that firms properly keep records of their sales and purchases.It said the tax was adjustable with the total payable value-added tax, meaning the money paid in excess would be refundable.A good amount of refund claims got stuck earlier because of procedural bottlenecks.However, officials said the process of refunding excess amounts has been started. China will force regional grid firms to buy at least 40 per cent of power from non-fossil fuel sources by 2030 in order to meet the country\\'s climate targets, according to a new governmentdocument seen by Reuters. Turn some stimulus into grant: FBCCI The country\\'s apex trade body yesterday demanded that the government consider giving away a portion of stimulus funds as grants if lockdowns persist in the next quarter, reasoning it was difficult to recover business from the pandemic-induced losses.The government in April last year announced stimulus packages for banks to disburse low interest loans among industries to aid recovery.Till date, the government declared Tk 124,000 crore in funds in its bid to shore up the confidence of entrepreneurs in the wake of global and local economic losses.In a proposal for tax and other measures needed for businesses to recover and grow in fiscal 2021-22, Federation of Bangladesh Chambers of Commerce and Industry (FBCCI) President Sheikh Fazle Fahim urged for considering the grants ranging from 5 per cent to 50 per cent.He was addressing a virtual meeting jointly organised by the National Board of Revenue and FBCCI as a part of a regular annual exercise to hear views of businesses before the formulation of fiscal measures for a new year.Top leaders of trade bodies and business chambers, government high-ups, experts, exporters and importers attended the meeting where Finance Minister AHM Mustafa Kamal was also present.The FBCCI president suggested that a 5 per cent grant be provided to large scale industries and for export-oriented sectors while 50 per cent to the cottage, micro, small and medium enterprises (CMSMEs) and agricultural sector.So far, the government announced Tk 30,000 crore in stimulus for large-scale industries, Tk 20,000 crore for CMSMEs, Tk 10,500 crore for export-oriented sectors and Tk 5,000 crore for the agricultural sector.Fahim also recommended that the tax authority reduce value added tax (VAT) and advance income tax (AIT) in certain sectors.He also suggested that the government opt not to go for more lockdowns.Instead, he demanded strengthening health safety management so that no physical, mental and economic pressure is imposed on the people during such hard times.\"Because lockdowns are not sustainable,\" he said.The FBCCI also urged that the government to provide one per cent as an incentive to banks which succeeded in disbursing their respective portions of the funds on time.Fahim said the budget needs to be formulated to address the challenges accrued due to Bangladesh\\'s upcoming United Nations status graduation from a least developed country to a developing country.In this connection, the FBCCI demanded withdrawal of the AIT from all kinds of businesses for the next two years.The apex trade body also demanded reduction of corporate tax by 2.5 percentage points from the present 32.5 per cent. It also appealed for a further reduction of tax for listed companies from last year\\'s rate of 25 per cent.He also suggested that the government ease access to finance for companies and traders and check hidden charges imposed by banks on businesspeople.Rupali Chowdhury, president of the Foreign Investors\\' Chamber of Commerce and Industry, demanded continuation of financial supports for the CMSMEs through the creation of a smart database of such firms.Faruque Hassan, president of the Bangladesh Garment Manufacturers and Exporters Association, demanded increasing cash incentives for non-traditional markets to 5 per cent from 4 per cent and reducing tax at source to 0.25 per cent.He also urged doing away with the submission of tax returns and VAT on all kinds of materials used for exports.He also demanded a 10 per cent incentive on export of garment items made of non-cotton fibres mainly to encourage local garment exporters to using manmade fibres as the demand for garments from such fibres is soaring worldwide.Mohammad Ali Khokon, president of the Bangladesh Textile Mills Association, sought fixing VAT at Tk 3 per kilogramme on sales of all kinds of yarn for narrowing the discrepancy between manmade fibres and cotton yarn.Currently, the government takes Tk 6 per kg as VAT on the sale of manmade fibres but Tk 3 per kg for cotton yarn.He also suggested treating exporters equally when giving out cash incentives.Md Jashim Uddin, president of the Bangladesh Plastic Goods Manufacturers and Exporters Association, said the revenue collection growth should be 20 per cent instead of the 35 per cent targeted every year because usually 10 per cent to 15 per cent was achieved.Shafiul Islam Mohiuddin, former FBCCI president, said the VAT on manmade fibre sales should be zero per cent and at the same time the government\\'s policy continuation was very important.While chairing the discussion, NBR Chairman Abu Hena Md Rahmatul Muneem said the next budget would be formulated targeting to save local industries, trade facilitation and expansion of the tax net.However, tax dodging through the fabrication of multiple audit reports by a section of companies might become impossible because the auditing system was being automated, he said.A trade-off is necessary in some cases in the next budget because of Covid-19, said Finance Minister Kamal.It is very difficult to reach a balance between revenue collection and reducing the taxes from different sectors, he said. China will force regional grid firms to buy at least 40 per cent of power from non-fossil fuel sources by 2030 in order to meet the country\\'s climate targets, according to a new governmentdocument seen by Reuters. Govt launches $7.5 million Covid-19 response fund for private enterprises The commerce ministry today launched a $7.5 million Covid-19 response fund to help private enterprises procure plant equipment and produce medical and personal protective equipment in the country.Commerce Minister Tipu Munshi virtually announced the commencement of the fund called \"Covid-19 Enterprise Response Fund (CERF) or Window-4\" initiated with the support of the World Bank.Under the CERF, the fund will support private enterprises to procure plant equipment and produce medical and personal protective equipment on a sustainable manner, said Md Hafizur Rahman, project director and additional secretary of the ministry.The grants -- ranged between $50,000 and $500,000 -- will be made available to private Bangladeshi farms, he said.About 50 applications will be accepted on a competitive basis for the grants, which would be awarded on a first-come-first-served basis.Salman F Rahman, private industry and investment adviser to the prime minister; Mercy Miyang Tembon, country director for Bangladesh, spoke at the event as special guests.Md Jafar Uddin, senior secretary of the commerce ministry, chaired the event. China will force regional grid firms to buy at least 40 per cent of power from non-fossil fuel sources by 2030 in order to meet the country\\'s climate targets, according to a new governmentdocument seen by Reuters. Women entrepreneurs bear the brunt of pandemic More than 41 per cent of small businesses run by women entrepreneurs were forced to shut their operations completely because of the coronavirus pandemic, according to a study by the Centre for Policy Dialogue (CPD).Another 7.1 per cent of women entrepreneurs in the cottage, micro, small and medium enterprise (CMSME) sector squeezed their operations, and 2.9 per cent relocated their operations to smaller or cheaper places. Some 44.4 per cent failed to pay rent, and 50 per cent said they could not manage to pay taxes and utility bills.\"In general, the situation has worsened for women due to a lack of social protection,\" the report said.The think-tank carried out the rapid response telephonic survey in collaboration with the UN Women among 70 female entrepreneurs in 34 districts of eight divisions from October 1 to October 30 last year.It explored the gender dimension of the government\\'s Covid-19 policy measures and recommended policies for making the assistance work for women. The outcome was shared at a virtual dialogue -- Socio-Economic Recovery Measures of the Government: How Much Women Have Benefitted? -- organised by the CPD in association with the UN Women yesterday.Around 93 per cent of female entrepreneurs did not apply for loans under the stimulus package unveiled by the government to support CMSMEs, the survey showed.The reasons include a lack of information, lengthy procedures, non-cooperation of financial institutions, and prospective borrowers being single women.The income of most of the respondents has fallen, so they were worried about the monthly repayment of loans. Some are not interested in taking loans as they contracted their businesses.Banks were also unwilling to provide the amount of money they need, according to the entrepreneurs.The government has unveiled liquidity support amounting to Tk 20,000 crore, equivalent to 19.43 per cent of the total Covid-19 funding introduced since the pandemic struck Bangladesh in March last year.Some 58.6 per cent of women entrepreneurs reported having no knowledge of the stimulus package announced for CMSMEs.The Covid-19 liquidity support and fiscal stimulus packages were not designed with women in mind. So, they have not been fully successful in addressing women\\'s special needs during the pandemic, the CPD said.\"Due to the economic downturn and the uncertainty regarding the future, women need cash handouts more than loans. So, fiscal measures would be more effective in easing the burden of the pandemic on women than monetary measures.\"While making a presentation on the study, CPD Executive Director Fahmida Khatun focused on a range of issues, such as providing training to women entrepreneurs and improving women\\'s access to finance.She pointed out that child marriage, the burden of unpaid care and domestic work, and violence against women increased during the pandemic.All should work together to impart information about the incentive packages to the right people, said Planning Minister MA Mannan.\"The government recognises the challenges of women during the pandemic and is working towards improving their situation.\"All packages need to ensure adequate and transparent delivery for women, said Shoko Ishikawa, country representative of the UN Women.Globally, 47 million women and girls have been forced into poverty because of Covid-19, she added.Prof Rounaq Jahan, a distinguished fellow of the CPD, said as Covid-19 added disadvantages for women, a plan of action is needed to support women entrepreneurs.\"A task force might be formed to monitor the progress of this work.\"Shaheen Anam, executive director of Manusher Jonno Foundation, said: \"We applaud the government for the incentive package it announced at the time of the emergency. But as it turned out, most of the women entrepreneurs did not get help from this package.\"\"Many women entrepreneurs closed their businesses. So, this issue needs to be considered seriously.\"The CPD demanded transparency and accountability in the disbursement of the Covid-19 support.Lila Rashid, a former executive director of Bangladesh Bank; Kaniz Almas, CEO of Persona; Fauzia Moslem, president of Bangladesh Mahila Parishad; Farah Kabir, country director of ActionAid Bangladesh; Md Jashim Uddin, deputy managing director of the Palli Karma-Sahayak Foundation; and Selim RF Hussain, managing director of Brac Bank, also spoke. China will force regional grid firms to buy at least 40 per cent of power from non-fossil fuel sources by 2030 in order to meet the country\\'s climate targets, according to a new governmentdocument seen by Reuters. Garment workers irked by transport crisis, high fares Garment factories operated in full swing on the second day of the lockdown yesterday although many workers found it difficult to reach their workplaces because of the non-availability of public transport.Following pleas from industries, the government has kept the export-oriented factories out of the purview of the weeklong lockdown, which began on Wednesday, on condition that owners will maintain health protocols for the workers and ensure transport facility for them under their own management.In the morning yesterday, the workers entered their workplaces as usual, following safety measures and health guidelines on Covid-19, union leaders and factory owners said.However, many of the workers came to the factories walking, as the government has banned public transport and factories failed to ensure vehicles for them.Those who used rickshaws, human haulers or other vehicles were compelled to bear more than double the usual fares.Amirul Haque Amin, president of the National Garment Workers Federation, a workers\\' platform, said: \"Almost all the factories were running in Ashulia, Savar and Gazipur as usual.\"At the factory gates, factory managements mainly prioritised four health measures: mandatory mask-wearing, cleaning hands with sanitizer, washing legs with soap water, and measuring body temperature.\"No untoward incident was noticed as the workers joined their workplaces following health guidelines,\" he said.Amin said factory managements should stagger the entry and exit of workers to avoid crowding to contain the virus\\'s spread as several thousand workers work in a factory. The factories may even consider arranging various shifts so that factories do not become overcrowded.Most of the factories have doctors and nurses, and they are on duty as usual. \"There should be doctors and nurses on each floor to check whether any worker is infected with the rogue pathogen, he said.Md Towhidur Rahman, president of the Bangladesh Apparels Workers\\' Federation, said although most of the factories were following the health guidelines, many workers faced difficulties due to the lack of transports.The workers who stay far away from the workplaces were supposed to be transported by the factories\\' own transports. But in many cases, they were not given the facility, he said. As a result, many workers in Savar, Ashulia and other industrial areas went to their workplaces on foot or used human haulers and rickshaws that charged abnormally high fares, he said.\"The factories that transported their workers failed to maintain the required social distancing,\" Rahman told The Daily Star.Md Nasir Uddin Ahmed, inspector general of the Department of Inspection for Factories and Establishments (DIFE), said all the inspectors in 23 districts, home to most garment industries, were monitoring the situation at the field-levels and from the control rooms.\"The factory managements have been asked to follow the health guidelines strictly. Otherwise, they will face actions. So far, no infections and major untoward incident were noticed,\" he said.The DIFE found that the workers of a factory in Bhaluka walked to their workplace as the owner did not provide transports.\"We cautioned the factory management. The management agreed that it would manage transports for the workers. If it fails to ensure transport for the workers, we will take action against the factory,\" the DIFE chief said.Faruque Hassan, president of the Bangladesh Garment Manufacturers and Exporters Association (BGMEA), said almost all of the factories were open.He said managements had not staggered the entry and exit of the workers.\"Last year, many factories followed the system. We are monitoring it so that they again stagger the entry and exit,\" he said.Hassan acknowledged that some small and medium-sized factories were not following the health guidelines properly.But if a factory does not follow the health rules, it will not be able to do business as there is pressure from international communities, local administrations, and international retailers and brands, he said.Hassan said the BGMEA had instructed all member factories to provide transport facility to the workers who live far from the factories.\"I have also asked the members to produce less, if necessary, but follow the health guidelines and prioritise the workers\\' health safety.\"If a factory cannot bring the workers from their residences using own transports, they should go for lower production, he said.\"Ensuring health safety of the workers and other employees is very important.\"Ahsan H Mansur, executive director of the Policy Research Institute of Bangladesh, endorsed the decision of running factories during the lockdown as a massive number of workers would have rushed to their village homes if they had been closed.\"This would have spread the virus further,\" he said.He called for an independent study to determine the authenticity of the BGMEA data on the infection rate among the workers.The BGMEA said the infection rate among the workers is 0.03 per cent.\"If the study finds the rate authentic or is in line with the national level, still it will be good to run the factories,\" he said, calling on the government to strengthen monitoring. China will force regional grid firms to buy at least 40 per cent of power from non-fossil fuel sources by 2030 in order to meet the country\\'s climate targets, according to a new governmentdocument seen by Reuters. Tech glitches leave bank clients up the creek Bank clients are going through serious troubles as the country\\'s two major digital means for moving funds, inter-bank cheque transactions and electronic fund transfers (EFT), have been inoperable since April 13.On an average, clients settle Tk 13,000 crore through inter-bank cheques and EFT, data from the central bank showed.A large number of clients called up their banks yesterday asking to know when their account would be credited through the clearing of their inter-bank cheques, popularly known as cross cheques, said officials of different banks.Clients who submitted their inter-bank cheques on April 13 have been in dire straits as Bangladesh Automated Clearing House (BACH), a digital platform operated by the central bank, has been forced to halt operations as two Bangladesh Bank data centres have remained disconnected.\"But, we are unable to inform anything to clients as the situation depends on the central bank as a whole,\" said a commercial bank official.The two systems, cheque clearing and EFT, are operated by the BACH, under which the major amount of inter-bank financial transactions are settled every day in contrast to the volume dealt with by other digital financial tools.Although there were few clients in banks yesterday, many rang up bank branches to manage their money amidst the strict restrictions on movement imposed by the government to keep the coronavirus pandemic at bay, said the officials of banks.Some clients had also personally visited banks to submit cheques yesterday but those were not for the IT issue.Severe problems have been created in managing funds due to the restrictions on movement, the officials said.The central bank sent a letter on April 13 to banks informing that the two financial transaction systems would stay out of operation until further notice.This has had a huge impact on the country\\'s financial sector as businesses and clients do not carry a large amount of cash, the bankers said.If the BACH remains inoperable, there are delays in payments and companies\\' activities also face a roadblock due to the absence of the financial transactions.  Of the two disconnected data centres, one is at Motijheel and the other at Mirpur, said officials of the central bank.Although the central bank restored the connection between the two centres on the evening of April 13, the operation of the BACH is yet to be restored.\"It is not possible to repair the BACH by today. We hope that the crisis will be resolved within Saturday,\" said a high official of the central bank.Two technology-related solution teams -- Microsoft and VMware -- have been working to resolve the issue since Tuesday, he said.The BACH, the first ever electronic clearing house of Bangladesh established in 2010, has two components – an Automated Cheque Processing System (ACPS) and the EFT.The platform has never faced such range of crisis, said the central banker.The inter-bank transactions through the two digital modes are the largest in terms of both number and volume of transactions.For instance, clients submit around one lakh inter-bank cheques, amounting to around Tk 12,000 crore, per day.Since inception in 2010, the ACPS is the only state-of-the art cheque clearing facility.The ACPS uses a cheque imaging and truncation (CIT) technology for electronic presentment and payment of paper-based instrumentsUnder the EFT system, around 1.5 lakh transactions are settled by clients per day, amounting to some Tk 1,000 crore.With its inception in February 2011, Bangladesh Electronic Fund Transfer Network (BEFTN) was the country\\'s first paperless electronic inter-bank funds transfer system.The electronic fund transfers occurs by way of using the BEFTN, which is also a major part of the BACH.It facilitates both credit and debit transactions, as a lead over cheque clearing systems.The network can handle credit transfers such as payroll, foreign and domestic remittances, social security payments, company dividends, bill payments, corporate payments, government tax payments, social security payments and person-to-person payments.Most of the government salary, social benefits, all social safety net payments and other government payments are processed through the BEFTN.Syed Mahbubur Rahman, managing director of Mutual Trust Bank, said a majority of clients had withdrawn cash in the couple of days thinking that banks were due to be kept shut during the restrictions on movement.So, both banks and clients did not face a severe crisis yesterday, he said.The central bank has allowed clients to transact any amount of money through the Real-Time Gross Settlement (RTGS) platform to offset the crisis to some extent.Clients are usually allowed to send Tk 1 lakh and above to customers of other bank through the RTGS.This has helped clients to tackle the transaction\\'s halt through EFT. China will force regional grid firms to buy at least 40 per cent of power from non-fossil fuel sources by 2030 in order to meet the country\\'s climate targets, according to a new governmentdocument seen by Reuters. Postal life insurance offers financial protection to future generations Over the years, awareness about insurance has grown and its demand has accelerated as many people look for financial protection for the long term.   And anyone interested in insurance will find various sorts of policies offered by public and private companies. One of the schemes is run and guaranteed by the government.The Postal Life Insurance (PLI) was introduced in 1884. Bangladesh Post Office (BPO) managed the PLI on behalf of the government. One of the key features of the PLI is that one can deposit premiums of his or her policy at any branches of BPO.The rate of premium is very low, but the amount of bonus is high. One can open a policy for any amount as there is no maximum ceiling of investment.A policy-holder can revive void policy and borrow from it. Any Bangladeshi can open the policy.  The PLI is fixed-term insurance. It has two categories: age-based insurance and term-based Insurance. Under the age-based scheme, the age limit of the policy-holders has been fixed as 35, 40, 45, 50, 55, and 60. If the policy-holder passes away before the expiration of the term, the nominees will be entitled to the money.Even if the policy-holder is alive, he or she will not be entitled to the money on maturity.Under the term-based insurance, the period of the scheme has been fixed as 5, 10, 15, 20, 25, 30 and 40 years. A person who maintains a fixed term insurance policy gets Tk 3,300 for every Tk 100,000 policy.There are several insurance schemes at the BPO. One is the whole life insurance policy.Under the scheme, which can be opened by the people aged 50 to 70, the nominees will get Tk 4,200 per Tk 100,000 policy after the policy-holder\\'s death.Besides, one can open education insurance and marriage insurance policies. It can be availed for the education or marriage of one of the children.  The policy can be opened for a period of five to 17 years. The age of the policy-holder has been fixed for 20 to 60 years. Under the arrangement, the policy-holder may, at his discretion, specify the age at which the beneficiary can receive the money.A senior official of BPO said because of the presence at the grassroots level, commoners are the primary beneficiary of the PLI.\"The PLI is secure as the government runs it. We also have a high claim settlement rate,\" said the official. China will force regional grid firms to buy at least 40 per cent of power from non-fossil fuel sources by 2030 in order to meet the country\\'s climate targets, according to a new governmentdocument seen by Reuters. Country\\'s first SME gets nod to go public The Bangladesh Securities and Exchange Commission (BSEC) yesterday gave go-ahead to Nialco Alloys to go public.In order to help the company meet its demand for long-term financing, the commission has approved the country\\'s first quality investors offering (QIO).The stockmarket watchdog took the decision in a meeting at its headquarters yesterday, the BSEC said in a press release.With this decision, Nialco Alloys, a manufacturer of high-grade bronze and brass ingots, will also become the country\\'s first-ever small and medium enterprise (SME) to enter into the stockmarket.The company aims to raise Tk 7.5 crore from qualified investors by issuing 75 lakh shares at Tk 10 each.Bangladesh\\'s SME sector has suffered from financial deficiencies for many years now even though these firms have a huge impact on the country\\'s gross domestic product and employment generation.With this backdrop, SMEs had repeatedly urged the BSEC to give a chance to raise funds from the stock market.The commission eventually appeased those demands by passing a rule in 2018 that allowed all companies with paid-up capital of between Tk 5-30 crores to raise funds from the stock market.There are about 78 lakh SMEs in Bangladesh employing about 2.5 crore workers in the sector, according to the Bangladesh Bureau of Statistics.If any individual has investments of more than Tk 1 crore in listed securities, then he or she is considered a qualified investor.Nialco Alloys shares would be traded at the bourses\\' SME platform, where general investors are not allowed to make purchases.The company will not be allowed to declare any bonus shares within three years of its market debut, the BSEC said.Its earnings per share was Tk 0.91 for the period that ended on September 30, 2020, while its net asset value without a revaluation reserve was Tk 12.43.With the QIO proceeds, the company will develop its facilities and bear the IPO expenses. MTB Capital is the issue manager.The BSEC also approved an open-ended mutual fund named RBIMCO BGFI Fund at the meeting.The primary target of the fund is Tk 10 crore, of which Tk 1 crore would be provided by its fund manager, the Royal Bengal Investment Management Company, while the rest would be open for general investors.The Bangladesh General Insurance Company is its trustee and Brac Bank is the fund\\'s custodian. China will force regional grid firms to buy at least 40 per cent of power from non-fossil fuel sources by 2030 in order to meet the country\\'s climate targets, according to a new governmentdocument seen by Reuters. Home stays turned into an advantage Coming home on a leave from his Saudi Arabian workplace, Saiful Islam of Tangail could not return for lockdowns imposed for the coronavirus outbreak.The young man, however, did not pass idle times or get frustrated and instead immediately took to within the confines of his home a new venture: mushroom farming.Saiful, 30, son of Bacchu Miah of Rashara village under Sadar union in Basail upazila, went to the Middle Eastern country in 2018 to earn a living. He left behind his wife and two children.After working for two years, he came back in February last year on a two-month leave. However, a lockdown was imposed in the country and his visa expired.   Uncertainties gripped Saiful over how he would bear family expenses and pay back debts he had taken to go abroad.Failing to secure a job within the country, he decided to do something for himself. Soon he was in talks with the local agriculture officers who advised cultivating mushrooms, since it takes little money and effort but yields bigger profits.Saiful took a 10-day online training from the National Mushroom Development & Extension Centre in Savar.He built a 40-foot structure next to his house for around Tk 1.5 lakh and started farming mushroom there on availing a seven-day practical experience in Savar and 350 mushroom seeds.Harvests came about in just 30 days. His current daily yield is about several kilogrammes while he has 700 mushroom seeds.  Talking to The Daily Star, Saiful said mushroom farming showed him a way out of depressing times.\"After paying for all costs, now I can earn at least Tk 1,000 per day by selling mushrooms and snacks made out of it at an adjacent market,\" he said.Saiful said mushroom sells for Tk 200 per kilogramme and there was a huge demand for it in the upazila and outside.  \"I want to farm it on a larger scale and also set up a lab for producing mushroom seeds. However, I cannot arrange the capital,\" he said.\"My Saudi employer e-mailed me recently asking to go back spending only plane fare. But I didn\\'t respond…what shall I do on returning a few years later?\" he asked.\"I want to do something permanent in the country,\" he added.    Nazneen Akhter, upazila agriculture officer in Basail, said mushroom was a healthy food option.\"Saiful is a role model for the unemployed local youths. If anyone is interested in mushroom cultivation and want to avail training, we will make arrangements,\" she added. China will force regional grid firms to buy at least 40 per cent of power from non-fossil fuel sources by 2030 in order to meet the country\\'s climate targets, according to a new governmentdocument seen by Reuters. BB extends deadline for payments Bangladesh Bank yesterday extended the deadline for private and public entities to pay for virtual meeting services, according to a central bank circular.Local firms will now be able to pay the fees for virtual meeting services such as Zoom until December 31.The move comes following a recent surge in Covid-19 infections that has forced the country into another week-long lockdown.Ever since the ongoing coronavirus pandemic began last March, the demand for video conferencing platforms has risen steadily amid the people\\'s desire to maintain social distancing.\"We extended the facility to facilitate virtual meetings,\" said a senior official of Bangladesh Bank.Authorised dealer branches that handle foreign exchanges can make outward remittances for webinar payments by issuing a virtual card or one-time card in the name of the nominated official of applicant entities, he added. China will force regional grid firms to buy at least 40 per cent of power from non-fossil fuel sources by 2030 in order to meet the country\\'s climate targets, according to a new governmentdocument seen by Reuters. New zinc-fortified wheat set for global expansion Scientists at a leading global grains research institute expect to sharply ramp up new wheat varieties enriched with zinc that can boost the essential mineral for millions of poor people with deficient diets, the institute\\'s head told Reuters.Martin Kropff, director general of the International Maize and Wheat Improvement Center (CIMMYT), said he expects the newly-developed high-zinc wheat to make up at least 80 per cent of varieties distributed worldwide over the next ten years, up from about 9 per cent currently.The Mexico-based institute\\'s research focuses on boosting yields, and livelihoods, of the world\\'s poorest farmers while also addressing specific challenges posed by climate change, including higher temperatures, less rainfall and constantly mutating plant diseases.The improved varieties of so-called biofortified wheat are being rolled out with the help of seed company partners in countries including India, Pakistan, Bangladesh, Mexico and Bolivia.Kropff said Asian giant China may also begin adopting the fortified wheat varieties this year.Over the next decade, he said he expects nearly all newly deployed wheat varieties to be nutritionally improved, noting that the high-zinc varieties were developed by traditional breeding techniques instead of research based on genetically modified organisms (GMOs). \"This is something that is really starting in a big way this year,\" said Kropff, who also pointed to CIMMYT-developed zinc-enhanced corn that was introduced in Colombia over the past two years. \"I\\'m super proud of this,\" he added, touting the seeds ability to dent malnutrition via one of the world\\'s grains staples.The dramatic expansion of the new wheat varieties, which has not been previously reported, holds the promise of improving diets that lack essential minerals like zinc and iron, used to fight off viruses and move oxygen throughout the body.Zinc deficiency, in particular, is one of the main causes of malnutrition globally and estimated to afflict more than 2 billion people.CIMMYT scientists, with a research budget last year of $120 million, have developed about 70 per cent of wheat varieties currently planted globally as well as about half of the world\\'s corn, or maize, varieties.The vast majority of CIMMYT\\'s research is non-GMO.The institute was founded by 1970 Nobel peace prize winner Norman Borlaug and runs research projects in some 50 countries. It has attracted funding from the US and British governments, among others, as well as billionaires like Bill Gates and Carlos Slim.Kropff also cited three recently-developed CIMMYT corn varieties that are resistant to Fall Armyworm (FAW), an insect that has caused major damage to crops in both Africa and Asia, that were bred in Kenya with the help of CIMMYT\\'s maize seed bank in Mexico, the world\\'s largest.\"Like people, (the worms) like maize as well, but they eat the leaves and also the grains and it\\'s really terrible,\" said Kropff.The new varieties will be distributed over the next few months for performance trials in Kenya, Ethiopia, Uganda, Rwanda, South Sudan, Malawi, Mozambique, South Africa, Zambia and Zimbabwe, according to CIMMYT officials.Kropff, a 64-year-old Dutch scientist, said the FAW-resistant corn varieties are the first of their kind and have already been picked for trials in east African nations ahead of similar trails expected in southern Africa later in the year.He said CIMMYT, which in a typical year develops and deploys some 35 improved wheat varieties globally, fills a space that the biggest profit-maximizing seed companies like Germany\\'s Bayer AG or US-based Corteva Inc tend to avoid.\"We specifically breed varieties for those environments where the private sector cannot make much money,\" he said, explaining that the poorest farmers must also regularly adopt new varieties that can thrive in a world where pests and disease are constantly evolving too.\"The small-holder farmers rely on us.\" China will force regional grid firms to buy at least 40 per cent of power from non-fossil fuel sources by 2030 in order to meet the country\\'s climate targets, according to a new governmentdocument seen by Reuters. Pubali Bank gets new DMDs Pubali Bank recently witnessed the appointment of three new deputy managing directors. The appointees, Zahid Ahsan, Mohammad Esha and Mohammad Shahadat Hossain, were serving as general managers and started off their careers as probationary senior officers, the former in 1988 and the latter two in 1997, says a press release.Ahsan was in the board division and is currently serving as company secretary. He obtained his LLB (Hons) and LLM degrees from the University of Dhaka.Esha was in the credit division. He obtained his MBA degree from the University of Dhaka.Hossain was in international and treasury divisions and obtained his MSS degree in economics from the University of Chattogram. China will force regional grid firms to buy at least 40 per cent of power from non-fossil fuel sources by 2030 in order to meet the country\\'s climate targets, according to a new governmentdocument seen by Reuters. '"
            ]
          },
          "metadata": {
            "tags": []
          },
          "execution_count": 8
        }
      ]
    },
    {
      "cell_type": "code",
      "metadata": {
        "colab": {
          "base_uri": "https://localhost:8080/",
          "height": 136
        },
        "id": "Wt_6hbh1F_sX",
        "outputId": "d812f8be-2f68-4f65-87de-b9f78a8dc03c"
      },
      "source": [
        "import pandas as pd\n",
        "data_df = pd.DataFrame.from_dict(dict[:])\n",
        "data_df = data_df.transpose()\n",
        "data_df.columns = ['Headlines']\n",
        "data_df"
      ],
      "execution_count": null,
      "outputs": [
        {
          "output_type": "execute_result",
          "data": {
            "text/html": [
              "<div>\n",
              "<style scoped>\n",
              "    .dataframe tbody tr th:only-of-type {\n",
              "        vertical-align: middle;\n",
              "    }\n",
              "\n",
              "    .dataframe tbody tr th {\n",
              "        vertical-align: top;\n",
              "    }\n",
              "\n",
              "    .dataframe thead th {\n",
              "        text-align: right;\n",
              "    }\n",
              "</style>\n",
              "<table border=\"1\" class=\"dataframe\">\n",
              "  <thead>\n",
              "    <tr style=\"text-align: right;\">\n",
              "      <th></th>\n",
              "      <th>Headlines</th>\n",
              "    </tr>\n",
              "  </thead>\n",
              "  <tbody>\n",
              "    <tr>\n",
              "      <th>Environment</th>\n",
              "      <td>Govt bans fishing in the Bay of Bengal for 65 ...</td>\n",
              "    </tr>\n",
              "    <tr>\n",
              "      <th>Science</th>\n",
              "      <td>Rooppur Power Plant: Unloading of key machines...</td>\n",
              "    </tr>\n",
              "    <tr>\n",
              "      <th>Business</th>\n",
              "      <td>'Bondhu Chula' for healthy living Bangladesh C...</td>\n",
              "    </tr>\n",
              "  </tbody>\n",
              "</table>\n",
              "</div>"
            ],
            "text/plain": [
              "                                                     Headlines\n",
              "Environment  Govt bans fishing in the Bay of Bengal for 65 ...\n",
              "Science      Rooppur Power Plant: Unloading of key machines...\n",
              "Business     'Bondhu Chula' for healthy living Bangladesh C..."
            ]
          },
          "metadata": {
            "tags": []
          },
          "execution_count": 9
        }
      ]
    },
    {
      "cell_type": "code",
      "metadata": {
        "id": "wX2NOB8hJJ0c"
      },
      "source": [
        "# Apply a first round of text cleaning techniques\n",
        "import re\n",
        "import string\n",
        "\n",
        "def clean_text_round1(text):\n",
        "    '''Make text lowercase, remove text in square brackets, remove punctuation and remove words containing numbers.'''\n",
        "    text = text.lower()\n",
        "    text = re.sub('\\[.*?\\]', '', text)\n",
        "    text = re.sub('[%s]' % re.escape(string.punctuation), '', text)\n",
        "    text = re.sub('\\w*\\d\\w*', '', text)\n",
        "    text = re.sub('[‘’“”…]', '', text)\n",
        "    text = re.sub('\\n', '', text)\n",
        "    text = re.sub(\"^\\d+\\s|\\s\\d+\\s|\\s\\d+$\", \"\", text)\n",
        "    return text\n",
        "\n",
        "round1 = lambda x: clean_text_round1(x)"
      ],
      "execution_count": null,
      "outputs": []
    },
    {
      "cell_type": "code",
      "metadata": {
        "colab": {
          "base_uri": "https://localhost:8080/",
          "height": 136
        },
        "id": "_aeDyvGMJUHX",
        "outputId": "8e8b0c6c-4168-422a-9734-cf55a85793d5"
      },
      "source": [
        "data_clean = pd.DataFrame(data_df.Headlines.apply(round1))\n",
        "data_clean"
      ],
      "execution_count": null,
      "outputs": [
        {
          "output_type": "execute_result",
          "data": {
            "text/html": [
              "<div>\n",
              "<style scoped>\n",
              "    .dataframe tbody tr th:only-of-type {\n",
              "        vertical-align: middle;\n",
              "    }\n",
              "\n",
              "    .dataframe tbody tr th {\n",
              "        vertical-align: top;\n",
              "    }\n",
              "\n",
              "    .dataframe thead th {\n",
              "        text-align: right;\n",
              "    }\n",
              "</style>\n",
              "<table border=\"1\" class=\"dataframe\">\n",
              "  <thead>\n",
              "    <tr style=\"text-align: right;\">\n",
              "      <th></th>\n",
              "      <th>Headlines</th>\n",
              "    </tr>\n",
              "  </thead>\n",
              "  <tbody>\n",
              "    <tr>\n",
              "      <th>Environment</th>\n",
              "      <td>govt bans fishing in the bay of bengal for  da...</td>\n",
              "    </tr>\n",
              "    <tr>\n",
              "      <th>Science</th>\n",
              "      <td>rooppur power plant unloading of key machines ...</td>\n",
              "    </tr>\n",
              "    <tr>\n",
              "      <th>Business</th>\n",
              "      <td>bondhu chula for healthy living bangladesh cou...</td>\n",
              "    </tr>\n",
              "  </tbody>\n",
              "</table>\n",
              "</div>"
            ],
            "text/plain": [
              "                                                     Headlines\n",
              "Environment  govt bans fishing in the bay of bengal for  da...\n",
              "Science      rooppur power plant unloading of key machines ...\n",
              "Business     bondhu chula for healthy living bangladesh cou..."
            ]
          },
          "metadata": {
            "tags": []
          },
          "execution_count": 11
        }
      ]
    },
    {
      "cell_type": "code",
      "metadata": {
        "colab": {
          "base_uri": "https://localhost:8080/",
          "height": 185
        },
        "id": "APAVJImAI62H",
        "outputId": "e5858b45-65b6-4167-d46d-4e4180a48a25"
      },
      "source": [
        "# We are going to create a document-term matrix using CountVectorizer, and exclude common English stop words\n",
        "from sklearn.feature_extraction.text import CountVectorizer\n",
        "\n",
        "cv = CountVectorizer(stop_words='english')\n",
        "data_cv = cv.fit_transform(data_clean.Headlines)\n",
        "data_dtm = pd.DataFrame(data_cv.toarray(), columns=cv.get_feature_names())\n",
        "data_dtm.index =data_clean.index\n",
        "data_dtm"
      ],
      "execution_count": null,
      "outputs": [
        {
          "output_type": "execute_result",
          "data": {
            "text/html": [
              "<div>\n",
              "<style scoped>\n",
              "    .dataframe tbody tr th:only-of-type {\n",
              "        vertical-align: middle;\n",
              "    }\n",
              "\n",
              "    .dataframe tbody tr th {\n",
              "        vertical-align: top;\n",
              "    }\n",
              "\n",
              "    .dataframe thead th {\n",
              "        text-align: right;\n",
              "    }\n",
              "</style>\n",
              "<table border=\"1\" class=\"dataframe\">\n",
              "  <thead>\n",
              "    <tr style=\"text-align: right;\">\n",
              "      <th></th>\n",
              "      <th>aa</th>\n",
              "      <th>ab</th>\n",
              "      <th>abdul</th>\n",
              "      <th>abdullah</th>\n",
              "      <th>abdullahalmahmud</th>\n",
              "      <th>abdur</th>\n",
              "      <th>abdus</th>\n",
              "      <th>abedin</th>\n",
              "      <th>abedinsamples</th>\n",
              "      <th>abh</th>\n",
              "      <th>abide</th>\n",
              "      <th>ability</th>\n",
              "      <th>abiotic</th>\n",
              "      <th>able</th>\n",
              "      <th>abm</th>\n",
              "      <th>abnormal</th>\n",
              "      <th>abnormalitythis</th>\n",
              "      <th>abnormally</th>\n",
              "      <th>abode</th>\n",
              "      <th>abolish</th>\n",
              "      <th>abort</th>\n",
              "      <th>abr</th>\n",
              "      <th>abroad</th>\n",
              "      <th>abroadfailing</th>\n",
              "      <th>absence</th>\n",
              "      <th>absolute</th>\n",
              "      <th>absolutely</th>\n",
              "      <th>abu</th>\n",
              "      <th>abul</th>\n",
              "      <th>abundance</th>\n",
              "      <th>abundant</th>\n",
              "      <th>abundantly</th>\n",
              "      <th>abuse</th>\n",
              "      <th>academic</th>\n",
              "      <th>academics</th>\n",
              "      <th>academy</th>\n",
              "      <th>accelerate</th>\n",
              "      <th>accelerated</th>\n",
              "      <th>accelerator</th>\n",
              "      <th>acceptable</th>\n",
              "      <th>...</th>\n",
              "      <th>yieldread</th>\n",
              "      <th>yields</th>\n",
              "      <th>yin</th>\n",
              "      <th>york</th>\n",
              "      <th>youll</th>\n",
              "      <th>young</th>\n",
              "      <th>younger</th>\n",
              "      <th>youngsters</th>\n",
              "      <th>younus</th>\n",
              "      <th>yousuf</th>\n",
              "      <th>youth</th>\n",
              "      <th>youths</th>\n",
              "      <th>yunus</th>\n",
              "      <th>zafar</th>\n",
              "      <th>zahid</th>\n",
              "      <th>zainul</th>\n",
              "      <th>zakaria</th>\n",
              "      <th>zakir</th>\n",
              "      <th>zambia</th>\n",
              "      <th>zero</th>\n",
              "      <th>zia</th>\n",
              "      <th>ziaul</th>\n",
              "      <th>zika</th>\n",
              "      <th>zimbabwe</th>\n",
              "      <th>zinc</th>\n",
              "      <th>zincenhanced</th>\n",
              "      <th>zincfortified</th>\n",
              "      <th>zobair</th>\n",
              "      <th>zone</th>\n",
              "      <th>zones</th>\n",
              "      <th>zonethe</th>\n",
              "      <th>zonewhile</th>\n",
              "      <th>zoo</th>\n",
              "      <th>zoogorai</th>\n",
              "      <th>zoological</th>\n",
              "      <th>zoology</th>\n",
              "      <th>zoom</th>\n",
              "      <th>zoos</th>\n",
              "      <th>zootaxaaccording</th>\n",
              "      <th>zusammenarbeit</th>\n",
              "    </tr>\n",
              "  </thead>\n",
              "  <tbody>\n",
              "    <tr>\n",
              "      <th>Environment</th>\n",
              "      <td>0</td>\n",
              "      <td>1</td>\n",
              "      <td>13</td>\n",
              "      <td>5</td>\n",
              "      <td>1</td>\n",
              "      <td>1</td>\n",
              "      <td>7</td>\n",
              "      <td>3</td>\n",
              "      <td>1</td>\n",
              "      <td>1</td>\n",
              "      <td>1</td>\n",
              "      <td>1</td>\n",
              "      <td>1</td>\n",
              "      <td>8</td>\n",
              "      <td>3</td>\n",
              "      <td>1</td>\n",
              "      <td>1</td>\n",
              "      <td>0</td>\n",
              "      <td>1</td>\n",
              "      <td>1</td>\n",
              "      <td>2</td>\n",
              "      <td>2</td>\n",
              "      <td>1</td>\n",
              "      <td>0</td>\n",
              "      <td>2</td>\n",
              "      <td>1</td>\n",
              "      <td>2</td>\n",
              "      <td>5</td>\n",
              "      <td>2</td>\n",
              "      <td>1</td>\n",
              "      <td>8</td>\n",
              "      <td>1</td>\n",
              "      <td>4</td>\n",
              "      <td>1</td>\n",
              "      <td>1</td>\n",
              "      <td>1</td>\n",
              "      <td>1</td>\n",
              "      <td>1</td>\n",
              "      <td>0</td>\n",
              "      <td>2</td>\n",
              "      <td>...</td>\n",
              "      <td>1</td>\n",
              "      <td>2</td>\n",
              "      <td>1</td>\n",
              "      <td>7</td>\n",
              "      <td>1</td>\n",
              "      <td>12</td>\n",
              "      <td>1</td>\n",
              "      <td>0</td>\n",
              "      <td>1</td>\n",
              "      <td>1</td>\n",
              "      <td>6</td>\n",
              "      <td>3</td>\n",
              "      <td>1</td>\n",
              "      <td>1</td>\n",
              "      <td>0</td>\n",
              "      <td>1</td>\n",
              "      <td>1</td>\n",
              "      <td>1</td>\n",
              "      <td>0</td>\n",
              "      <td>3</td>\n",
              "      <td>1</td>\n",
              "      <td>1</td>\n",
              "      <td>0</td>\n",
              "      <td>0</td>\n",
              "      <td>2</td>\n",
              "      <td>0</td>\n",
              "      <td>0</td>\n",
              "      <td>1</td>\n",
              "      <td>8</td>\n",
              "      <td>8</td>\n",
              "      <td>1</td>\n",
              "      <td>1</td>\n",
              "      <td>16</td>\n",
              "      <td>1</td>\n",
              "      <td>1</td>\n",
              "      <td>5</td>\n",
              "      <td>0</td>\n",
              "      <td>3</td>\n",
              "      <td>1</td>\n",
              "      <td>0</td>\n",
              "    </tr>\n",
              "    <tr>\n",
              "      <th>Science</th>\n",
              "      <td>3</td>\n",
              "      <td>0</td>\n",
              "      <td>0</td>\n",
              "      <td>0</td>\n",
              "      <td>0</td>\n",
              "      <td>0</td>\n",
              "      <td>0</td>\n",
              "      <td>0</td>\n",
              "      <td>0</td>\n",
              "      <td>0</td>\n",
              "      <td>0</td>\n",
              "      <td>1</td>\n",
              "      <td>0</td>\n",
              "      <td>0</td>\n",
              "      <td>0</td>\n",
              "      <td>0</td>\n",
              "      <td>0</td>\n",
              "      <td>0</td>\n",
              "      <td>0</td>\n",
              "      <td>0</td>\n",
              "      <td>0</td>\n",
              "      <td>0</td>\n",
              "      <td>0</td>\n",
              "      <td>0</td>\n",
              "      <td>0</td>\n",
              "      <td>0</td>\n",
              "      <td>0</td>\n",
              "      <td>0</td>\n",
              "      <td>0</td>\n",
              "      <td>0</td>\n",
              "      <td>0</td>\n",
              "      <td>0</td>\n",
              "      <td>0</td>\n",
              "      <td>0</td>\n",
              "      <td>0</td>\n",
              "      <td>1</td>\n",
              "      <td>0</td>\n",
              "      <td>0</td>\n",
              "      <td>2</td>\n",
              "      <td>0</td>\n",
              "      <td>...</td>\n",
              "      <td>0</td>\n",
              "      <td>0</td>\n",
              "      <td>0</td>\n",
              "      <td>0</td>\n",
              "      <td>0</td>\n",
              "      <td>0</td>\n",
              "      <td>0</td>\n",
              "      <td>1</td>\n",
              "      <td>0</td>\n",
              "      <td>0</td>\n",
              "      <td>0</td>\n",
              "      <td>0</td>\n",
              "      <td>0</td>\n",
              "      <td>0</td>\n",
              "      <td>3</td>\n",
              "      <td>0</td>\n",
              "      <td>0</td>\n",
              "      <td>0</td>\n",
              "      <td>0</td>\n",
              "      <td>0</td>\n",
              "      <td>0</td>\n",
              "      <td>0</td>\n",
              "      <td>1</td>\n",
              "      <td>0</td>\n",
              "      <td>0</td>\n",
              "      <td>0</td>\n",
              "      <td>0</td>\n",
              "      <td>0</td>\n",
              "      <td>0</td>\n",
              "      <td>0</td>\n",
              "      <td>0</td>\n",
              "      <td>0</td>\n",
              "      <td>0</td>\n",
              "      <td>0</td>\n",
              "      <td>0</td>\n",
              "      <td>0</td>\n",
              "      <td>0</td>\n",
              "      <td>0</td>\n",
              "      <td>0</td>\n",
              "      <td>0</td>\n",
              "    </tr>\n",
              "    <tr>\n",
              "      <th>Business</th>\n",
              "      <td>0</td>\n",
              "      <td>0</td>\n",
              "      <td>0</td>\n",
              "      <td>0</td>\n",
              "      <td>0</td>\n",
              "      <td>0</td>\n",
              "      <td>0</td>\n",
              "      <td>0</td>\n",
              "      <td>0</td>\n",
              "      <td>0</td>\n",
              "      <td>0</td>\n",
              "      <td>1</td>\n",
              "      <td>0</td>\n",
              "      <td>2</td>\n",
              "      <td>0</td>\n",
              "      <td>0</td>\n",
              "      <td>0</td>\n",
              "      <td>1</td>\n",
              "      <td>0</td>\n",
              "      <td>0</td>\n",
              "      <td>0</td>\n",
              "      <td>0</td>\n",
              "      <td>0</td>\n",
              "      <td>1</td>\n",
              "      <td>3</td>\n",
              "      <td>0</td>\n",
              "      <td>0</td>\n",
              "      <td>1</td>\n",
              "      <td>0</td>\n",
              "      <td>0</td>\n",
              "      <td>0</td>\n",
              "      <td>0</td>\n",
              "      <td>0</td>\n",
              "      <td>0</td>\n",
              "      <td>0</td>\n",
              "      <td>0</td>\n",
              "      <td>0</td>\n",
              "      <td>1</td>\n",
              "      <td>0</td>\n",
              "      <td>0</td>\n",
              "      <td>...</td>\n",
              "      <td>0</td>\n",
              "      <td>4</td>\n",
              "      <td>0</td>\n",
              "      <td>0</td>\n",
              "      <td>0</td>\n",
              "      <td>1</td>\n",
              "      <td>0</td>\n",
              "      <td>0</td>\n",
              "      <td>0</td>\n",
              "      <td>0</td>\n",
              "      <td>0</td>\n",
              "      <td>1</td>\n",
              "      <td>0</td>\n",
              "      <td>0</td>\n",
              "      <td>1</td>\n",
              "      <td>0</td>\n",
              "      <td>0</td>\n",
              "      <td>0</td>\n",
              "      <td>1</td>\n",
              "      <td>1</td>\n",
              "      <td>0</td>\n",
              "      <td>0</td>\n",
              "      <td>0</td>\n",
              "      <td>1</td>\n",
              "      <td>2</td>\n",
              "      <td>1</td>\n",
              "      <td>1</td>\n",
              "      <td>0</td>\n",
              "      <td>0</td>\n",
              "      <td>0</td>\n",
              "      <td>0</td>\n",
              "      <td>0</td>\n",
              "      <td>0</td>\n",
              "      <td>0</td>\n",
              "      <td>0</td>\n",
              "      <td>0</td>\n",
              "      <td>1</td>\n",
              "      <td>0</td>\n",
              "      <td>0</td>\n",
              "      <td>1</td>\n",
              "    </tr>\n",
              "  </tbody>\n",
              "</table>\n",
              "<p>3 rows × 9454 columns</p>\n",
              "</div>"
            ],
            "text/plain": [
              "             aa  ab  abdul  ...  zoos  zootaxaaccording  zusammenarbeit\n",
              "Environment   0   1     13  ...     3                 1               0\n",
              "Science       3   0      0  ...     0                 0               0\n",
              "Business      0   0      0  ...     0                 0               1\n",
              "\n",
              "[3 rows x 9454 columns]"
            ]
          },
          "metadata": {
            "tags": []
          },
          "execution_count": 12
        }
      ]
    },
    {
      "cell_type": "code",
      "metadata": {
        "id": "RhEmWJMtMOkQ"
      },
      "source": [
        "data_dtm.to_pickle(\"dtm.pkl\")\n",
        "data_clean.to_pickle(\"clean_data.pkl\")"
      ],
      "execution_count": null,
      "outputs": []
    },
    {
      "cell_type": "code",
      "metadata": {
        "id": "uM3f8iytGaPH"
      },
      "source": [],
      "execution_count": null,
      "outputs": []
    }
  ]
}